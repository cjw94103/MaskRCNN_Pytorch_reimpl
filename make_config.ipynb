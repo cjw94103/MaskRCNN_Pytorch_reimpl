{
 "cells": [
  {
   "cell_type": "code",
   "execution_count": 14,
   "id": "7cccbaf6-f596-4dd0-8635-f4fc20174bed",
   "metadata": {},
   "outputs": [],
   "source": [
    "from utils import *"
   ]
  },
  {
   "cell_type": "code",
   "execution_count": 15,
   "id": "333cff21-ac32-4a1c-af79-d498e23becd7",
   "metadata": {},
   "outputs": [],
   "source": [
    "param_dict = {}\n",
    "param_dict['data_path'] = \"../03_Faster_RCNN/data/coco2017/\"\n",
    "param_dict['num_workers'] = 0\n",
    "param_dict['batch_size'] = 4\n",
    "\n",
    "param_dict['backbone'] = 'resnet50fpn'\n",
    "param_dict['hidden_layer'] = 256\n",
    "\n",
    "param_dict['epochs'] = 11\n",
    "param_dict['model_save_path'] = './model_result/02_ResNet50FPN_Backbone_Continue/ResNet50FPN_model_continue.pth'\n",
    "param_dict['save_per_epochs'] = None\n",
    "param_dict['monitor'] = 'loss'\n",
    "\n",
    "param_dict['multi_gpu_flag'] = False\n",
    "param_dict['port_num'] = 14000\n",
    "\n",
    "param_dict['lr'] = 0.0002966316784621\n",
    "param_dict['weight_decay'] = 0.0001\n",
    "param_dict['momentum'] = 0.9"
   ]
  },
  {
   "cell_type": "code",
   "execution_count": 16,
   "id": "ed7f25b3-52ec-44c6-a8ab-36660c0d27e3",
   "metadata": {},
   "outputs": [],
   "source": [
    "save_json('./config/02_ResNet50FPN_Backbone_Continue.json', param_dict)"
   ]
  },
  {
   "cell_type": "markdown",
   "id": "d22d9b89-e689-4be4-8cf0-ae5178b8f730",
   "metadata": {},
   "source": [
    "## Continue"
   ]
  },
  {
   "cell_type": "code",
   "execution_count": 4,
   "id": "c1257c02-110e-4ebd-a83a-b62d81e8f12e",
   "metadata": {},
   "outputs": [],
   "source": [
    "import numpy as np\n",
    "from make_args import Args"
   ]
  },
  {
   "cell_type": "code",
   "execution_count": 3,
   "id": "25e1a243-377b-4404-b059-8505c9bf2f7c",
   "metadata": {},
   "outputs": [],
   "source": [
    "def lr_cosine_decay(base_learning_rate, global_step, decay_steps, alpha=0):\n",
    "    \"\"\"\n",
    "    Params\n",
    "        - learning_rate : Base Learning Rate\n",
    "        - global_step : Current Step in Train Pipeline\n",
    "        - decay_steps : Total Decay Steps in Learning Rate\n",
    "        - alpha : Learning Scaled Coefficient\n",
    "    \"\"\"\n",
    "    global_step = min(global_step, decay_steps)\n",
    "    cosine_decay = 0.5 * (1 + np.cos(np.pi * global_step / decay_steps))\n",
    "    decayed = (1 - alpha) * cosine_decay + alpha\n",
    "    decayed_learning_rate = base_learning_rate * decayed\n",
    "\n",
    "    return decayed_learning_rate"
   ]
  },
  {
   "cell_type": "code",
   "execution_count": 13,
   "id": "3b191cf7-784c-4f83-9ed2-e557a2062a8a",
   "metadata": {},
   "outputs": [
    {
     "data": {
      "text/plain": [
       "0.0002966316784621"
      ]
     },
     "execution_count": 13,
     "metadata": {},
     "output_type": "execute_result"
    }
   ],
   "source": [
    "lr_cosine_decay(0.001, 513703, 811110)"
   ]
  },
  {
   "cell_type": "code",
   "execution_count": null,
   "id": "d4eda3af-e71c-4763-9a64-241ad3caaf92",
   "metadata": {},
   "outputs": [],
   "source": [
    "total_iter = len(train_dataloader) * args.epochs"
   ]
  },
  {
   "cell_type": "code",
   "execution_count": 5,
   "id": "ed0db77e-ec43-4e34-87d7-bf09356c1bad",
   "metadata": {},
   "outputs": [],
   "source": [
    "args = Args('./config/01_ResNet50FPN_Backbone.json')"
   ]
  },
  {
   "cell_type": "code",
   "execution_count": 7,
   "id": "38cdbe02-327e-46e4-acd0-5af98a4ca188",
   "metadata": {},
   "outputs": [],
   "source": [
    "from coco_dataset import COCODataset"
   ]
  },
  {
   "cell_type": "code",
   "execution_count": 9,
   "id": "1572e58d-9f51-4910-8191-8081b6966fb8",
   "metadata": {},
   "outputs": [
    {
     "name": "stdout",
     "output_type": "stream",
     "text": [
      "loading annotations into memory...\n",
      "Done (t=16.47s)\n",
      "creating index...\n",
      "index created!\n",
      "loading annotations into memory...\n",
      "Done (t=0.54s)\n",
      "creating index...\n",
      "index created!\n"
     ]
    }
   ],
   "source": [
    "train_dataset = COCODataset(args.data_path, train=True, transform=None)\n",
    "val_dataset = COCODataset(args.data_path, train=False, transform=None)"
   ]
  },
  {
   "cell_type": "code",
   "execution_count": 12,
   "id": "5495a987-97a7-4da1-b577-df303eaad5bf",
   "metadata": {},
   "outputs": [
    {
     "data": {
      "text/plain": [
       "811110"
      ]
     },
     "execution_count": 12,
     "metadata": {},
     "output_type": "execute_result"
    }
   ],
   "source": [
    "(len(train_dataset) // 4) * 30"
   ]
  }
 ],
 "metadata": {
  "kernelspec": {
   "display_name": "torch",
   "language": "python",
   "name": "torch"
  },
  "language_info": {
   "codemirror_mode": {
    "name": "ipython",
    "version": 3
   },
   "file_extension": ".py",
   "mimetype": "text/x-python",
   "name": "python",
   "nbconvert_exporter": "python",
   "pygments_lexer": "ipython3",
   "version": "3.9.18"
  }
 },
 "nbformat": 4,
 "nbformat_minor": 5
}
